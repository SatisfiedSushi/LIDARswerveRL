{
 "cells": [
  {
   "cell_type": "code",
   "execution_count": 1,
   "id": "cf7aa4ab472cd72e",
   "metadata": {
    "collapsed": false,
    "ExecuteTime": {
     "end_time": "2024-03-01T20:00:16.873673700Z",
     "start_time": "2024-03-01T19:59:17.380641800Z"
    }
   },
   "outputs": [
    {
     "data": {
      "text/plain": "  0%|          | 0/100 [00:00<?, ?epoch/s]",
      "application/vnd.jupyter.widget-view+json": {
       "version_major": 2,
       "version_minor": 0,
       "model_id": "6727c2e6fc5d4e55bdfb8aaa41faa1fe"
      }
     },
     "metadata": {},
     "output_type": "display_data"
    },
    {
     "name": "stdout",
     "output_type": "stream",
     "text": [
      "Mean Squared Error: 0.01916208304464817\n"
     ]
    }
   ],
   "source": [
    "import torch\n",
    "import torch.nn as nn\n",
    "import torch.optim as optim\n",
    "from torch.utils.data import DataLoader, TensorDataset\n",
    "import pandas as pd\n",
    "from sklearn.model_selection import train_test_split\n",
    "from sklearn.preprocessing import StandardScaler\n",
    "from sklearn.metrics import mean_squared_error\n",
    "from tqdm.auto import tqdm  # Ensure tqdm is imported\n",
    "\n",
    "\n",
    "\n",
    "# Define the neural network architecture\n",
    "class Net(nn.Module):\n",
    "    def __init__(self, input_size, hidden_size, output_size):\n",
    "        super(Net, self).__init__()\n",
    "        self.fc1 = nn.Linear(input_size, hidden_size)\n",
    "        self.relu = nn.ReLU()\n",
    "        self.fc2 = nn.Linear(hidden_size, hidden_size)\n",
    "        self.fc3 = nn.Linear(hidden_size, output_size)\n",
    "\n",
    "    def forward(self, x):\n",
    "        out = self.fc1(x)\n",
    "        out = self.relu(out)\n",
    "        out = self.fc2(out)\n",
    "        out = self.relu(out)\n",
    "        out = self.fc3(out)\n",
    "        return out\n",
    "\n",
    "\n",
    "# Load and preprocess data\n",
    "data = pd.read_csv('Combined_AAPL_Historical_Data.csv')\n",
    "data['Date'] = pd.to_datetime(data['Date'])\n",
    "data['Date_days'] = (data['Date'] - data['Date'].min()).dt.days\n",
    "\n",
    "# Convert 'Price', 'Open', 'High', 'Low' to float\n",
    "for column in ['Price']:\n",
    "    data[column] = data[column].astype(float)\n",
    "\n",
    "# Use 'Date_days' and other relevant columns as features\n",
    "features = data[['Price']].values\n",
    "\n",
    "# Use 'Price' as target\n",
    "target = data['Price'].values\n",
    "\n",
    "# Split the data\n",
    "X_train, X_test, y_train, y_test = train_test_split(features, target, test_size=0.2, random_state=42)\n",
    "\n",
    "# Standardize features\n",
    "scaler = StandardScaler()\n",
    "X_train = scaler.fit_transform(X_train)\n",
    "X_test = scaler.transform(X_test)\n",
    "\n",
    "# Convert to PyTorch tensors\n",
    "X_train_tensor = torch.tensor(X_train, dtype=torch.float32)\n",
    "y_train_tensor = torch.tensor(y_train, dtype=torch.float32).view(-1, 1)\n",
    "X_test_tensor = torch.tensor(X_test, dtype=torch.float32)\n",
    "y_test_tensor = torch.tensor(y_test, dtype=torch.float32).view(-1, 1)\n",
    "\n",
    "# Create TensorDatasets and DataLoaders\n",
    "train_dataset = TensorDataset(X_train_tensor, y_train_tensor)\n",
    "test_dataset = TensorDataset(X_test_tensor, y_test_tensor)\n",
    "\n",
    "train_loader = DataLoader(dataset=train_dataset, batch_size=64, shuffle=True)\n",
    "test_loader = DataLoader(dataset=test_dataset, batch_size=64, shuffle=False)\n",
    "\n",
    "# Initialize the network\n",
    "input_size = X_train.shape[1]\n",
    "hidden_size = 1024  # Example size, can be tuned\n",
    "output_size = 1\n",
    "\n",
    "net = Net(input_size, hidden_size, output_size)\n",
    "\n",
    "# Check if CUDA is available, otherwise use CPU\n",
    "device = torch.device(\"cuda:0\" if torch.cuda.is_available() else \"cpu\")\n",
    "net.to(device)\n",
    "\n",
    "# Loss and optimizer\n",
    "criterion = nn.MSELoss()  # Corrected line\n",
    "optimizer = optim.Adam(net.parameters(), lr=0.001)\n",
    "\n",
    "# Training loop\n",
    "num_epochs = 100  # Example value, can be adjusted\n",
    "with tqdm(range(num_epochs), unit=\"epoch\") as tepochs:\n",
    "    for epoch in tepochs:\n",
    "        tepochs.set_description(f\"Epoch {epoch+1}\")\n",
    "\n",
    "        for inputs, targets in train_loader:\n",
    "            inputs, targets = inputs.to(device), targets.to(device)\n",
    "\n",
    "            # Forward pass\n",
    "            outputs = net(inputs)\n",
    "            loss = criterion(outputs, targets)\n",
    "\n",
    "            # Backward and optimize\n",
    "            optimizer.zero_grad()\n",
    "            loss.backward()\n",
    "            optimizer.step()\n",
    "\n",
    "        # Optionally, update the progress bar with the latest loss value\n",
    "        tepochs.set_postfix(loss=loss.item())\n",
    "\n",
    "\n",
    "# Evaluate the model\n",
    "net.eval()  # Set the model to evaluation mode\n",
    "with torch.no_grad():\n",
    "    predictions = net(X_test_tensor.to(device))\n",
    "    mse = mean_squared_error(y_test_tensor.cpu(), predictions.cpu())\n",
    "    print(f'Mean Squared Error: {mse}')\n",
    "\n",
    "\n",
    "def date_to_days(date_str, reference_date):\n",
    "    \"\"\"Convert input date string to 'Date_days' relative to a reference date.\"\"\"\n",
    "    date = pd.to_datetime(date_str)\n",
    "    return (date - reference_date).days"
   ]
  },
  {
   "cell_type": "code",
   "outputs": [
    {
     "name": "stdout",
     "output_type": "stream",
     "text": [
      "Date: 1/29/2023 | Predicted Close/Last price: $15521.79\n",
      "Date: 2/29/2024 | Prediction: $15921.34 | Actual: $180.61 | Loss: $15740.73\n"
     ]
    },
    {
     "ename": "DateParseError",
     "evalue": "Unknown datetime string format, unable to parse: exot, at position 0",
     "output_type": "error",
     "traceback": [
      "\u001B[1;31m---------------------------------------------------------------------------\u001B[0m",
      "\u001B[1;31mDateParseError\u001B[0m                            Traceback (most recent call last)",
      "Cell \u001B[1;32mIn[2], line 29\u001B[0m\n\u001B[0;32m     26\u001B[0m \u001B[38;5;28;01mif\u001B[39;00m date_str\u001B[38;5;241m.\u001B[39mlower() \u001B[38;5;241m==\u001B[39m \u001B[38;5;124m'\u001B[39m\u001B[38;5;124mexit\u001B[39m\u001B[38;5;124m'\u001B[39m:\n\u001B[0;32m     27\u001B[0m     \u001B[38;5;28;01mbreak\u001B[39;00m\n\u001B[1;32m---> 29\u001B[0m \u001B[43mpredict_price\u001B[49m\u001B[43m(\u001B[49m\u001B[43mdate_str\u001B[49m\u001B[43m,\u001B[49m\u001B[43m \u001B[49m\u001B[43mnet\u001B[49m\u001B[43m,\u001B[49m\u001B[43m \u001B[49m\u001B[43mscaler\u001B[49m\u001B[43m,\u001B[49m\u001B[43m \u001B[49m\u001B[43mreference_date\u001B[49m\u001B[43m,\u001B[49m\u001B[43m \u001B[49m\u001B[43mdata\u001B[49m\u001B[43m)\u001B[49m\n",
      "Cell \u001B[1;32mIn[2], line 4\u001B[0m, in \u001B[0;36mpredict_price\u001B[1;34m(date_str, model, scaler, reference_date, data)\u001B[0m\n\u001B[0;32m      2\u001B[0m \u001B[38;5;250m\u001B[39m\u001B[38;5;124;03m\"\"\"Predict the 'Close/Last' price for a given date.\"\"\"\u001B[39;00m\n\u001B[0;32m      3\u001B[0m model\u001B[38;5;241m.\u001B[39meval()  \u001B[38;5;66;03m# Set the model to evaluation mode\u001B[39;00m\n\u001B[1;32m----> 4\u001B[0m date_days \u001B[38;5;241m=\u001B[39m \u001B[43mdate_to_days\u001B[49m\u001B[43m(\u001B[49m\u001B[43mdate_str\u001B[49m\u001B[43m,\u001B[49m\u001B[43m \u001B[49m\u001B[43mreference_date\u001B[49m\u001B[43m)\u001B[49m\n\u001B[0;32m      5\u001B[0m date_days_scaled \u001B[38;5;241m=\u001B[39m scaler\u001B[38;5;241m.\u001B[39mtransform([[date_days]])  \u001B[38;5;66;03m# Scale the 'Date_days' feature\u001B[39;00m\n\u001B[0;32m      7\u001B[0m \u001B[38;5;66;03m# Convert to tensor and move to device\u001B[39;00m\n",
      "Cell \u001B[1;32mIn[1], line 114\u001B[0m, in \u001B[0;36mdate_to_days\u001B[1;34m(date_str, reference_date)\u001B[0m\n\u001B[0;32m    112\u001B[0m \u001B[38;5;28;01mdef\u001B[39;00m \u001B[38;5;21mdate_to_days\u001B[39m(date_str, reference_date):\n\u001B[0;32m    113\u001B[0m \u001B[38;5;250m    \u001B[39m\u001B[38;5;124;03m\"\"\"Convert input date string to 'Date_days' relative to a reference date.\"\"\"\u001B[39;00m\n\u001B[1;32m--> 114\u001B[0m     date \u001B[38;5;241m=\u001B[39m \u001B[43mpd\u001B[49m\u001B[38;5;241;43m.\u001B[39;49m\u001B[43mto_datetime\u001B[49m\u001B[43m(\u001B[49m\u001B[43mdate_str\u001B[49m\u001B[43m)\u001B[49m\n\u001B[0;32m    115\u001B[0m     \u001B[38;5;28;01mreturn\u001B[39;00m (date \u001B[38;5;241m-\u001B[39m reference_date)\u001B[38;5;241m.\u001B[39mdays\n",
      "File \u001B[1;32m~\\anaconda3\\envs\\LIDARswerveRL\\lib\\site-packages\\pandas\\core\\tools\\datetimes.py:1101\u001B[0m, in \u001B[0;36mto_datetime\u001B[1;34m(arg, errors, dayfirst, yearfirst, utc, format, exact, unit, infer_datetime_format, origin, cache)\u001B[0m\n\u001B[0;32m   1099\u001B[0m         result \u001B[38;5;241m=\u001B[39m convert_listlike(argc, \u001B[38;5;28mformat\u001B[39m)\n\u001B[0;32m   1100\u001B[0m \u001B[38;5;28;01melse\u001B[39;00m:\n\u001B[1;32m-> 1101\u001B[0m     result \u001B[38;5;241m=\u001B[39m \u001B[43mconvert_listlike\u001B[49m\u001B[43m(\u001B[49m\u001B[43mnp\u001B[49m\u001B[38;5;241;43m.\u001B[39;49m\u001B[43marray\u001B[49m\u001B[43m(\u001B[49m\u001B[43m[\u001B[49m\u001B[43marg\u001B[49m\u001B[43m]\u001B[49m\u001B[43m)\u001B[49m\u001B[43m,\u001B[49m\u001B[43m \u001B[49m\u001B[38;5;28;43mformat\u001B[39;49m\u001B[43m)\u001B[49m[\u001B[38;5;241m0\u001B[39m]\n\u001B[0;32m   1102\u001B[0m     \u001B[38;5;28;01mif\u001B[39;00m \u001B[38;5;28misinstance\u001B[39m(arg, \u001B[38;5;28mbool\u001B[39m) \u001B[38;5;129;01mand\u001B[39;00m \u001B[38;5;28misinstance\u001B[39m(result, np\u001B[38;5;241m.\u001B[39mbool_):\n\u001B[0;32m   1103\u001B[0m         result \u001B[38;5;241m=\u001B[39m \u001B[38;5;28mbool\u001B[39m(result)  \u001B[38;5;66;03m# TODO: avoid this kludge.\u001B[39;00m\n",
      "File \u001B[1;32m~\\anaconda3\\envs\\LIDARswerveRL\\lib\\site-packages\\pandas\\core\\tools\\datetimes.py:435\u001B[0m, in \u001B[0;36m_convert_listlike_datetimes\u001B[1;34m(arg, format, name, utc, unit, errors, dayfirst, yearfirst, exact)\u001B[0m\n\u001B[0;32m    432\u001B[0m \u001B[38;5;28;01mif\u001B[39;00m \u001B[38;5;28mformat\u001B[39m \u001B[38;5;129;01mis\u001B[39;00m \u001B[38;5;129;01mnot\u001B[39;00m \u001B[38;5;28;01mNone\u001B[39;00m \u001B[38;5;129;01mand\u001B[39;00m \u001B[38;5;28mformat\u001B[39m \u001B[38;5;241m!=\u001B[39m \u001B[38;5;124m\"\u001B[39m\u001B[38;5;124mmixed\u001B[39m\u001B[38;5;124m\"\u001B[39m:\n\u001B[0;32m    433\u001B[0m     \u001B[38;5;28;01mreturn\u001B[39;00m _array_strptime_with_fallback(arg, name, utc, \u001B[38;5;28mformat\u001B[39m, exact, errors)\n\u001B[1;32m--> 435\u001B[0m result, tz_parsed \u001B[38;5;241m=\u001B[39m \u001B[43mobjects_to_datetime64\u001B[49m\u001B[43m(\u001B[49m\n\u001B[0;32m    436\u001B[0m \u001B[43m    \u001B[49m\u001B[43marg\u001B[49m\u001B[43m,\u001B[49m\n\u001B[0;32m    437\u001B[0m \u001B[43m    \u001B[49m\u001B[43mdayfirst\u001B[49m\u001B[38;5;241;43m=\u001B[39;49m\u001B[43mdayfirst\u001B[49m\u001B[43m,\u001B[49m\n\u001B[0;32m    438\u001B[0m \u001B[43m    \u001B[49m\u001B[43myearfirst\u001B[49m\u001B[38;5;241;43m=\u001B[39;49m\u001B[43myearfirst\u001B[49m\u001B[43m,\u001B[49m\n\u001B[0;32m    439\u001B[0m \u001B[43m    \u001B[49m\u001B[43mutc\u001B[49m\u001B[38;5;241;43m=\u001B[39;49m\u001B[43mutc\u001B[49m\u001B[43m,\u001B[49m\n\u001B[0;32m    440\u001B[0m \u001B[43m    \u001B[49m\u001B[43merrors\u001B[49m\u001B[38;5;241;43m=\u001B[39;49m\u001B[43merrors\u001B[49m\u001B[43m,\u001B[49m\n\u001B[0;32m    441\u001B[0m \u001B[43m    \u001B[49m\u001B[43mallow_object\u001B[49m\u001B[38;5;241;43m=\u001B[39;49m\u001B[38;5;28;43;01mTrue\u001B[39;49;00m\u001B[43m,\u001B[49m\n\u001B[0;32m    442\u001B[0m \u001B[43m\u001B[49m\u001B[43m)\u001B[49m\n\u001B[0;32m    444\u001B[0m \u001B[38;5;28;01mif\u001B[39;00m tz_parsed \u001B[38;5;129;01mis\u001B[39;00m \u001B[38;5;129;01mnot\u001B[39;00m \u001B[38;5;28;01mNone\u001B[39;00m:\n\u001B[0;32m    445\u001B[0m     \u001B[38;5;66;03m# We can take a shortcut since the datetime64 numpy array\u001B[39;00m\n\u001B[0;32m    446\u001B[0m     \u001B[38;5;66;03m# is in UTC\u001B[39;00m\n\u001B[0;32m    447\u001B[0m     out_unit \u001B[38;5;241m=\u001B[39m np\u001B[38;5;241m.\u001B[39mdatetime_data(result\u001B[38;5;241m.\u001B[39mdtype)[\u001B[38;5;241m0\u001B[39m]\n",
      "File \u001B[1;32m~\\anaconda3\\envs\\LIDARswerveRL\\lib\\site-packages\\pandas\\core\\arrays\\datetimes.py:2398\u001B[0m, in \u001B[0;36mobjects_to_datetime64\u001B[1;34m(data, dayfirst, yearfirst, utc, errors, allow_object, out_unit)\u001B[0m\n\u001B[0;32m   2395\u001B[0m \u001B[38;5;66;03m# if str-dtype, convert\u001B[39;00m\n\u001B[0;32m   2396\u001B[0m data \u001B[38;5;241m=\u001B[39m np\u001B[38;5;241m.\u001B[39marray(data, copy\u001B[38;5;241m=\u001B[39m\u001B[38;5;28;01mFalse\u001B[39;00m, dtype\u001B[38;5;241m=\u001B[39mnp\u001B[38;5;241m.\u001B[39mobject_)\n\u001B[1;32m-> 2398\u001B[0m result, tz_parsed \u001B[38;5;241m=\u001B[39m \u001B[43mtslib\u001B[49m\u001B[38;5;241;43m.\u001B[39;49m\u001B[43marray_to_datetime\u001B[49m\u001B[43m(\u001B[49m\n\u001B[0;32m   2399\u001B[0m \u001B[43m    \u001B[49m\u001B[43mdata\u001B[49m\u001B[43m,\u001B[49m\n\u001B[0;32m   2400\u001B[0m \u001B[43m    \u001B[49m\u001B[43merrors\u001B[49m\u001B[38;5;241;43m=\u001B[39;49m\u001B[43merrors\u001B[49m\u001B[43m,\u001B[49m\n\u001B[0;32m   2401\u001B[0m \u001B[43m    \u001B[49m\u001B[43mutc\u001B[49m\u001B[38;5;241;43m=\u001B[39;49m\u001B[43mutc\u001B[49m\u001B[43m,\u001B[49m\n\u001B[0;32m   2402\u001B[0m \u001B[43m    \u001B[49m\u001B[43mdayfirst\u001B[49m\u001B[38;5;241;43m=\u001B[39;49m\u001B[43mdayfirst\u001B[49m\u001B[43m,\u001B[49m\n\u001B[0;32m   2403\u001B[0m \u001B[43m    \u001B[49m\u001B[43myearfirst\u001B[49m\u001B[38;5;241;43m=\u001B[39;49m\u001B[43myearfirst\u001B[49m\u001B[43m,\u001B[49m\n\u001B[0;32m   2404\u001B[0m \u001B[43m    \u001B[49m\u001B[43mcreso\u001B[49m\u001B[38;5;241;43m=\u001B[39;49m\u001B[43mabbrev_to_npy_unit\u001B[49m\u001B[43m(\u001B[49m\u001B[43mout_unit\u001B[49m\u001B[43m)\u001B[49m\u001B[43m,\u001B[49m\n\u001B[0;32m   2405\u001B[0m \u001B[43m\u001B[49m\u001B[43m)\u001B[49m\n\u001B[0;32m   2407\u001B[0m \u001B[38;5;28;01mif\u001B[39;00m tz_parsed \u001B[38;5;129;01mis\u001B[39;00m \u001B[38;5;129;01mnot\u001B[39;00m \u001B[38;5;28;01mNone\u001B[39;00m:\n\u001B[0;32m   2408\u001B[0m     \u001B[38;5;66;03m# We can take a shortcut since the datetime64 numpy array\u001B[39;00m\n\u001B[0;32m   2409\u001B[0m     \u001B[38;5;66;03m#  is in UTC\u001B[39;00m\n\u001B[0;32m   2410\u001B[0m     \u001B[38;5;28;01mreturn\u001B[39;00m result, tz_parsed\n",
      "File \u001B[1;32mtslib.pyx:414\u001B[0m, in \u001B[0;36mpandas._libs.tslib.array_to_datetime\u001B[1;34m()\u001B[0m\n",
      "File \u001B[1;32mtslib.pyx:596\u001B[0m, in \u001B[0;36mpandas._libs.tslib.array_to_datetime\u001B[1;34m()\u001B[0m\n",
      "File \u001B[1;32mtslib.pyx:553\u001B[0m, in \u001B[0;36mpandas._libs.tslib.array_to_datetime\u001B[1;34m()\u001B[0m\n",
      "File \u001B[1;32mconversion.pyx:641\u001B[0m, in \u001B[0;36mpandas._libs.tslibs.conversion.convert_str_to_tsobject\u001B[1;34m()\u001B[0m\n",
      "File \u001B[1;32mparsing.pyx:336\u001B[0m, in \u001B[0;36mpandas._libs.tslibs.parsing.parse_datetime_string\u001B[1;34m()\u001B[0m\n",
      "File \u001B[1;32mparsing.pyx:666\u001B[0m, in \u001B[0;36mpandas._libs.tslibs.parsing.dateutil_parse\u001B[1;34m()\u001B[0m\n",
      "\u001B[1;31mDateParseError\u001B[0m: Unknown datetime string format, unable to parse: exot, at position 0"
     ]
    }
   ],
   "source": [
    "\n",
    "\n",
    "def predict_price(date_str, model, scaler, reference_date, data):\n",
    "    \"\"\"Predict the 'Close/Last' price for a given date.\"\"\"\n",
    "    model.eval()  # Set the model to evaluation mode\n",
    "    date_days = date_to_days(date_str, reference_date)\n",
    "    date_days_scaled = scaler.transform([[date_days]])  # Scale the 'Date_days' feature\n",
    "\n",
    "    # Convert to tensor and move to device\n",
    "    date_tensor = torch.tensor(date_days_scaled, dtype=torch.float32).to(device)\n",
    "\n",
    "    with torch.no_grad():\n",
    "        prediction = model(date_tensor).item()  # Get the prediction\n",
    "\n",
    "    # Check if the given date is within the dataset\n",
    "    if pd.to_datetime(date_str) in data['Date'].values:\n",
    "        actual_price = data.loc[data['Date'] == pd.to_datetime(date_str), 'Price'].values[0]\n",
    "        loss = abs(prediction - actual_price)\n",
    "        print(f'Date: {date_str} | Prediction: ${prediction:.2f} | Actual: ${actual_price:.2f} | Loss: ${loss:.2f}')\n",
    "    else:\n",
    "        print(f'Date: {date_str} | Predicted Close/Last price: ${prediction:.2f}')\n",
    "\n",
    "\n",
    "# Prediction loop\n",
    "reference_date = data['Date'].min()  # Reference date to calculate 'Date_days'\n",
    "while True:\n",
    "    date_str = input(\"Enter a date in MM/DD/YYYY format (or type 'exit' to quit): \")\n",
    "    if date_str.lower() == 'exit':\n",
    "        break\n",
    "\n",
    "    predict_price(date_str, net, scaler, reference_date, data)"
   ],
   "metadata": {
    "collapsed": true,
    "ExecuteTime": {
     "end_time": "2024-03-01T20:00:38.072846900Z",
     "start_time": "2024-03-01T20:00:16.876855400Z"
    }
   },
   "id": "initial_id",
   "execution_count": 2
  },
  {
   "cell_type": "code",
   "outputs": [
    {
     "data": {
      "text/plain": "<Figure size 1000x600 with 1 Axes>",
      "image/png": "[encoded data removed]"
     },
     "metadata": {},
     "output_type": "display_data"
    }
   ],
   "source": [
    "# graph future data up to a year\n",
    "import matplotlib.pyplot as plt\n",
    "\n",
    "# Generate future dates\n",
    "future_dates = pd.date_range(start=data['Date'].max() + pd.DateOffset(days=1), periods=365)\n",
    "\n",
    "# Rest of the code remains the same\n",
    "\n",
    "# Convert future dates to 'Date_days'\n",
    "future_dates_days = (future_dates - data['Date'].min()).days.values\n",
    "\n",
    "# Scale the 'Date_days' feature\n",
    "future_dates_scaled = scaler.transform(future_dates_days.reshape(-1, 1))\n",
    "\n",
    "# Convert to tensor and move to device\n",
    "future_dates_tensor = torch.tensor(future_dates_scaled, dtype=torch.float32).to(device)\n",
    "\n",
    "# Get the predictions\n",
    "with torch.no_grad():\n",
    "    future_predictions = net(future_dates_tensor).cpu().numpy()\n",
    "    \n",
    "# Plot the predictions\n",
    "plt.figure(figsize=(10, 6))\n",
    "plt.plot(data['Date'].values, data['Price'].values, label='Historical data')\n",
    "plt.plot(future_dates, future_predictions.flatten(), label='Future predictions')\n",
    "plt.title('Apple Stock Price Prediction')\n",
    "plt.xlabel('Date')\n",
    "plt.ylabel('Price')\n",
    "plt.legend()\n",
    "plt.show()\n"
   ],
   "metadata": {
    "collapsed": false,
    "ExecuteTime": {
     "end_time": "2024-03-01T20:03:07.960919900Z",
     "start_time": "2024-03-01T20:03:06.652838800Z"
    }
   },
   "id": "f891730972db9da7",
   "execution_count": 5
  },
  {
   "cell_type": "code",
   "outputs": [],
   "source": [],
   "metadata": {
    "collapsed": false,
    "ExecuteTime": {
     "start_time": "2024-03-01T20:00:38.074049600Z"
    }
   },
   "id": "ef64f3844555962c"
  }
 ],
 "metadata": {
  "kernelspec": {
   "display_name": "Python 3",
   "language": "python",
   "name": "python3"
  },
  "language_info": {
   "codemirror_mode": {
    "name": "ipython",
    "version": 2
   },
   "file_extension": ".py",
   "mimetype": "text/x-python",
   "name": "python",
   "nbconvert_exporter": "python",
   "pygments_lexer": "ipython2",
   "version": "2.7.6"
  }
 },
 "nbformat": 4,
 "nbformat_minor": 5
}
